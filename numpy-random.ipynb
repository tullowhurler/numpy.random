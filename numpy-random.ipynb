{
 "cells": [
  {
   "cell_type": "markdown",
   "metadata": {},
   "source": [
    "# The numpy.random package"
   ]
  },
  {
   "cell_type": "markdown",
   "metadata": {},
   "source": [
    "## 1. Purpose of the Package\n",
    "\n",
    "NumPy is a library contained in the Python programming language. It is used to help support large data structures and matrices. It is also used for its high level mathematical functions to operate these arrays(1). NumPy was created in 2005 by Travis Oliphant and is an open- source software.\n",
    "\n",
    "An important function within the NumPy library is the .random package that is NumPy's built-in pseudorandom number generator(2). Using and developing random numbers is a very important part of machine learning and can be used as a tool to help the learning algorithms be more robust and ultimately result in better predictions and more accurate models(3). Machine learning algorithms use randomness to learn from a sample of data. Randomness is a feature that allows an algorithm to attempt to avoid over using the small training set and to generalize to the broader problem. \n",
    "\n",
    "Machine learning algorithms also uses randomness when evaluating a small sample size of data when it does not have access to the full observations of the domain. The algorithm can harness randomness when evaluating a model such as using a k-fold cross-validation technique. This cross validation technique is used to predict a result using the available data to fit and evaluate the model on different subsets. We do this to see how the model works on average rather than on a specific set of data(3).\n",
    "\n",
    "NumPy and specifically the .random package is a very important debugging tool for both developers and data analysts. It allows the developer the ability to generate random numbers and sequences to try and mimic a real data set or scenario that their program or algorithm will have to deal with. The NumPy library has allowed for algorithms to be more robust and effective in the development of machine learning.   \n"
   ]
  },
  {
   "cell_type": "markdown",
   "metadata": {},
   "source": [
    "## 2. Simple Random Data and Permutations\n",
    "For data intensive computing, NumPy provides us with a wide range of methods that make data manipulation in Python very quick and easy(17). One of the functions in the random package is the option to create multiple different types of random numbers. As I have stated previously being able to develop huge arrays of random numbers allows developers the ability to debug any new code they may have created. There are various different options and types of figures that the NumPy.random can create and I will show some ways to develop these numbers. \n",
    "\n",
    "The random module also contains some permutations that can be used to randomly shuffle the order of items in a list.  This is sometimes useful if we want to sort a list in random order. Permutations is utilised in machine learning as the algorithm has to respond to the random series of inputs and this will determine how effective it is with dealing with this type of scenario in reality. The intuition behind the importance of permutation is that if a feature is not useful for predicting an outcome, then altering its values will not result in a significant reduction in a model’s performance (18). "
   ]
  },
  {
   "cell_type": "code",
   "execution_count": 3,
   "metadata": {},
   "outputs": [
    {
     "data": {
      "text/plain": [
       "8"
      ]
     },
     "execution_count": 3,
     "metadata": {},
     "output_type": "execute_result"
    }
   ],
   "source": [
    "# import numpy\n",
    "import numpy as np\n",
    "# random.randint creates a single random number between 5 and 10\n",
    "np.random.randint(5, 10)  "
   ]
  },
  {
   "cell_type": "code",
   "execution_count": 4,
   "metadata": {},
   "outputs": [
    {
     "data": {
      "text/plain": [
       "array([0.02776209, 0.75146397, 0.91778701, 0.59733079, 0.93826126])"
      ]
     },
     "execution_count": 4,
     "metadata": {},
     "output_type": "execute_result"
    }
   ],
   "source": [
    "import numpy as np\n",
    "#An array of random numbers in the half-open interval [0.0, 1.0) can be generated\n",
    "np.random.rand(5)"
   ]
  },
  {
   "cell_type": "code",
   "execution_count": 10,
   "metadata": {},
   "outputs": [
    {
     "data": {
      "text/plain": [
       "array([4, 0, 8, 5, 1, 6, 9, 7, 3, 2])"
      ]
     },
     "execution_count": 10,
     "metadata": {},
     "output_type": "execute_result"
    }
   ],
   "source": [
    "#creates a list of 10 numbers\n",
    "arr = np.arange(10)\n",
    "#shuffles the list into a random order\n",
    "np.random.shuffle(arr)\n",
    "#prints the list below\n",
    "arr\n",
    "\n"
   ]
  },
  {
   "cell_type": "markdown",
   "metadata": {},
   "source": [
    "## 3. Distribution Function\n",
    "\n",
    "In the previous examples that I have used in the simple random data the results were processed using uniform distribution. NumPy.random contains a variety of other distributions that we can use while generating these random numbers. Uniform distribution refers to a probability distribution for which all of the values that a random variable can take on occur with equal probability(7).  I will now list and explain 5 of these unique distributions.  "
   ]
  },
  {
   "cell_type": "markdown",
   "metadata": {},
   "source": [
    "### 3A. Poisson Distribution\n",
    "The Poisson Distribution is used in statistics to calculates the probability of a number of events occuring over a certain fixed interval. This type of probability distribution can be invaluable when trying to investigate a reoccuring event over a certain period of time to find a pattern. To generate a poisson distribution a lambda is required, that is the average number of events in a given interval. k is denoted as the number of times an event occurs in an interval and k can take values 0, 1, 2 etc. The function then will only return values at the integer values of k (8). The poisson distribution requires some assumptions to be true in order to work. The occurrence of one event does not affect the probability that a second event will occur and the rate at which events occur is constant."
   ]
  },
  {
   "cell_type": "code",
   "execution_count": 9,
   "metadata": {},
   "outputs": [
    {
     "data": {
      "image/png": "[encoded data removed]",
      "text/plain": [
       "<Figure size 432x288 with 1 Axes>"
      ]
     },
     "metadata": {},
     "output_type": "display_data"
    }
   ],
   "source": [
    "import numpy as np\n",
    "# generate k and labda\n",
    "s = np.random.poisson(5, 4000)\n",
    "import matplotlib.pyplot as plt\n",
    "%matplotlib inline\n",
    "#format table\n",
    "count, bins, ignored = plt.hist(s, 14, density=True)\n",
    "# add titles to axes and histogram\n",
    "plt.xlabel('k, number of events')\n",
    "plt.ylabel('lambda, average of events')\n",
    "plt.title(r'Histogram of poisson distribution')\n",
    "\n",
    "plt.show()\n",
    "# https://docs.scipy.org/doc/numpy/reference/generated/numpy.random.poisson.html#numpy.random.poisson"
   ]
  },
  {
   "cell_type": "markdown",
   "metadata": {},
   "source": [
    "### 3B. Gaussian Distribution\n",
    "Gaussian or normal distribution is a very common continuous probability distribution that provides the probability of occurrences of different possible outcomes in an experiment(10). This type of distribution is famous for developing a 'Bell curve’. This refers to the shape that is created when a line is plotted using the data points. The center contains the greatest number of a value and therefore would be the highest point on the arc of the line(9).\n",
    "The important thing to note about a normal distribution is the curve is concentrated in the center and decreases on either side. This is significant in that the data has less of a tendency to produce unusually extreme values, called outliers, as compared to other distributions. \n",
    "\n",
    "The bell curve signifies that the data is symmetrical and thus we can create reasonable expectations as to the possibility that an outcome will lie within a range to the left or right of the center. Once we can measure the amount of deviation contained in the data we can begin to make these assumptions. These points are measured in terms of standard deviations. A bell curve graph depends on two factors: the mean and the standard deviation. The mean identifies the position of the center and the standard deviation determines the height and width of the bell curve(10)."
   ]
  },
  {
   "cell_type": "code",
   "execution_count": 11,
   "metadata": {},
   "outputs": [
    {
     "data": {
      "text/plain": [
       "<function matplotlib.pyplot.show(*args, **kw)>"
      ]
     },
     "execution_count": 11,
     "metadata": {},
     "output_type": "execute_result"
    },
    {
     "data": {
      "image/png": "[encoded data removed]",
      "text/plain": [
       "<Figure size 432x288 with 1 Axes>"
      ]
     },
     "metadata": {},
     "output_type": "display_data"
    }
   ],
   "source": [
    "import numpy as np\n",
    "mu, sigma = 0, 0.1 # mean and standard deviation\n",
    "s = np.random.normal(mu, sigma, 1000) \n",
    "%matplotlib inline\n",
    "import matplotlib.pyplot as plt\n",
    "count, bins, ignored = plt.hist(s, 30, density=True)\n",
    "# Display the mean and the standard deviation of the data\n",
    "plt.plot(bins, 1/(sigma * np.sqrt(2 * np.pi)) *\n",
    "np.exp( - (bins - mu)**2 / (2 * sigma**2) ),\n",
    "linewidth=2, color='r')\n",
    "plt.show\n",
    "# https://docs.scipy.org/doc/numpy/reference/generated/numpy.random.normal.html#numpy.random.normal"
   ]
  },
  {
   "cell_type": "markdown",
   "metadata": {},
   "source": [
    "### 3C. Binomial Distribution \n",
    "Binomial in probability begins with an action, or trial, having only two possible outcomes. The two and only two possible results of the action are success and failure. The outcomes need not be equally likely.The binomial distribution is a probability distribution that summarizes the likelihood that a value will take one of two independent values under a given set of parameters or assumptions. The underlying assumptions of the binomial distribution are that there is only one outcome for each trial, that each trial has the same probability of success, and that each trial is mutually exclusive, or independent of each other (11).\n",
    "The Binomial Distribution is different for normal distribution in that it can only count 2 states. The binomial distribution therefore represents the probability for x successes in n trials, given a success probability p for each trial.\n",
    "\n",
    "The code below is testing the famous binomial test of heads and tails and shows that the odds of getting heads is around 0.4 meaning that it is likely to return heads every 4 coin flips(12). \n",
    "\n",
    " \n"
   ]
  },
  {
   "cell_type": "code",
   "execution_count": 10,
   "metadata": {},
   "outputs": [
    {
     "data": {
      "text/plain": [
       "[<matplotlib.lines.Line2D at 0x1fdb4ebacc0>]"
      ]
     },
     "execution_count": 10,
     "metadata": {},
     "output_type": "execute_result"
    },
    {
     "data": {
      "image/png": "[encoded data removed]",
      "text/plain": [
       "<Figure size 432x288 with 1 Axes>"
      ]
     },
     "metadata": {},
     "output_type": "display_data"
    }
   ],
   "source": [
    "import scipy, scipy.stats\n",
    "# defining all the outcomes of the coin flip\n",
    "x = scipy.linspace(0,10,11)\n",
    "# calculates the probability mass function for each obsveration\n",
    "pmf = scipy.stats.binom.pmf(x,10,0.1)\n",
    "import pylab\n",
    "pylab.plot(x,pmf)\n",
    "# https://stackoverflow.com/questions/5338944/how-to-draw-probabilistic-distributions-with-numpy-matplotlib"
   ]
  },
  {
   "cell_type": "markdown",
   "metadata": {},
   "source": [
    "### 3D. Pareto Distribution \n",
    "The Pareto Distribution was developed by the Italian engineer Vincent Pareto. The distribution was initially designed to show how the wealth distribution was unequal in his home country. He found that 80% of Italy's wealth was held by only 20% of the population (14). This type of distribution is a power-law probability distribution that describes the relationship between two quantities and investigates the various different outcomes between the two quantities. The initial use of the distribution was designed to highlight wealth imbalances but has been used in various different fields from the values of oil reserves to the price of individual stocks. The premise behind the distribution is that not everything is created equal and thus the 80/20 rule was born. The distribution shows that each unit of work is not created equally and graphs the diminishing marginal benefit over time(13). "
   ]
  },
  {
   "cell_type": "code",
   "execution_count": 2,
   "metadata": {},
   "outputs": [
    {
     "data": {
      "image/png": "[encoded data removed]",
      "text/plain": [
       "<Figure size 432x288 with 1 Axes>"
      ]
     },
     "metadata": {},
     "output_type": "display_data"
    }
   ],
   "source": [
    "import numpy as np\n",
    "%matplotlib inline\n",
    "a, m = 3., 2.  # shape and mode\n",
    "s = (np.random.pareto(a, 1000) + 1) * m\n",
    "import matplotlib.pyplot as plt\n",
    "count, bins, _ = plt.hist(s, 100, density=True)\n",
    "fit = a*m**a / bins**(a+1)\n",
    "plt.plot(bins, max(count)*fit/max(fit), linewidth=2, color='r')\n",
    "plt.show()\n",
    "# https://docs.scipy.org/doc/numpy/reference/generated/numpy.random.pareto.html#numpy.random.pareto"
   ]
  },
  {
   "cell_type": "markdown",
   "metadata": {},
   "source": []
  },
  {
   "cell_type": "markdown",
   "metadata": {},
   "source": [
    "### 3E. Zipf Distribution\n",
    "Zipf's law is an empirical law that highlights the relationship between multiple different variables (15). It was developed by the linguist George Zipf who noticed a pattern in every language relating to how the most common word in any language is twice as common as the second most common. This distribution follows on through each of the variables in an empirical fashion with each variable being twice as large as the next. The distribution was initially used for language but interestingly it has been very accurate at predicting large city sizes relative to their smaller counterparts in the same country (16). It has also been known as the rank and frequency rule. This type of distribution has been found to be extremely accurate in the distribution of populations in American cities as researched by economist Xavier Gabiax in 1999 even when the populations were rapidly growing. \n"
   ]
  },
  {
   "cell_type": "code",
   "execution_count": 1,
   "metadata": {},
   "outputs": [
    {
     "data": {
      "image/png": "[encoded data removed]",
      "text/plain": [
       "<Figure size 432x288 with 1 Axes>"
      ]
     },
     "metadata": {},
     "output_type": "display_data"
    }
   ],
   "source": [
    "import numpy as np\n",
    "%matplotlib inline\n",
    "a = 2. # parameter\n",
    "s = np.random.zipf(a, 1000)\n",
    "import matplotlib.pyplot as plt\n",
    "from scipy import special\n",
    "count, bins, ignored = plt.hist(s[s<50], 50, density=True)\n",
    "x = np.arange(1., 50.)\n",
    "y = x**(-a) / special.zetac(a)\n",
    "plt.plot(x, y/max(y), linewidth=2, color='r')\n",
    "plt.show()\n",
    "# https://docs.scipy.org/doc/numpy/reference/generated/numpy.random.zipf.html#numpy.random.zipf"
   ]
  },
  {
   "cell_type": "markdown",
   "metadata": {},
   "source": [
    "## 4. Generating Pseudorandom Numbers\n",
    "NumPy's random package is a built in feature that creates pseudorandom numbers. The numbers generated are never fully random as they are created from a seed and then are distributed randomly from there. NumPy uses a particular algorithm called Mersenne Twister to generate these pseudorandom numbers. The Mersenne Twister is one of the most extensively tested random number generators in existence. NumPy, if not instructed, generates the seed from the local time on the machine in milliseconds. The \"seed\" is a starting point for the sequence and the guarantee is that if you start from the same seed you will get the same sequence of numbers(5). \n",
    "\n",
    "The code below shows how we import the seed from the random package and then print off some values(6). This code also shows that when the seed is reset again to the same number the same sequence of numbers will appear again. This can be useful for debugging purposes as we can create the same sequence of events at every turn. It can be useful to control the randomness by setting the seed to ensure that your code produces the same result each time, such as in a production model.\n",
    "For running experiments where randomization is used to control for confounding variables, a different seed may be used for each experimental run (6).\n",
    "\n"
   ]
  },
  {
   "cell_type": "code",
   "execution_count": 29,
   "metadata": {
    "scrolled": true
   },
   "outputs": [
    {
     "name": "stdout",
     "output_type": "stream",
     "text": [
      "0.13436424411240122 0.8474337369372327 0.763774618976614\n",
      "0.13436424411240122 0.8474337369372327 0.763774618976614\n"
     ]
    }
   ],
   "source": [
    "# seed the pseudorandom number generator\n",
    "from random import seed\n",
    "from random import random\n",
    "# seed random number generator\n",
    "seed(1)\n",
    "# generate some random numbers\n",
    "print(random(), random(), random())\n",
    "# reset the seed\n",
    "seed(1)\n",
    "# generate some random numbers\n",
    "print(random(), random(), random())"
   ]
  },
  {
   "cell_type": "markdown",
   "metadata": {},
   "source": [
    "## References \n",
    "1. https://en.wikipedia.org/wiki/NumPy#History \n",
    "2. https://engineering.ucsb.edu/~shell/che210d/numpy.pdf\n",
    "3. https://machinelearningmastery.com/introduction-to-random-number-generators-for-machine-learning/\n",
    "4. https://en.wikipedia.org/wiki/Mersenne_Twister \n",
    "5. https://stackoverflow.com/questions/14914595/what-is-a-seed-in-terms-of-generating-a-random-number\n",
    "6. https://machinelearningmastery.com/how-to-generate-random-numbers-in-python/ \n",
    "7. https://stattrek.com/statistics/dictionary.aspx?definition=uniform_distribution\n",
    "8. https://en.wikipedia.org/wiki/Poisson_distribution\n",
    "9. https://www.thoughtco.com/bell-curve-normal-distribution-defined-2312350 \n",
    "10. https://en.wikipedia.org/wiki/Probability_distribution#Continuous_probability_distribution\n",
    "11. https://www.investopedia.com/terms/b/binomialdistribution.asp#ixzz5W7QT7tz\n",
    "12. http://hpc-asia.com/how-to-implement-these-5-powerful-probability-distributions-in-python\n",
    "13. https://en.wikipedia.org/wiki/Pareto_distribution \n",
    "14. https://betterexplained.com/articles/understanding-the-pareto-principle-the-8020-rule/ \n",
    "15. https://en.wikipedia.org/wiki/Zipf%27s_law\n",
    "16. https://io9.gizmodo.com/the-mysterious-law-that-governs-the-size-of-your-city-1479244159\n",
    "17. https://towardsdatascience.com/numpy-python-made-efficient-f82a2d84b6f7 \n",
    "18. https://blogs.technet.microsoft.com/machinelearning/2015/04/14/permutation-feature-importance/"
   ]
  },
  {
   "cell_type": "code",
   "execution_count": null,
   "metadata": {},
   "outputs": [],
   "source": []
  }
 ],
 "metadata": {
  "kernelspec": {
   "display_name": "Python 3",
   "language": "python",
   "name": "python3"
  },
  "language_info": {
   "codemirror_mode": {
    "name": "ipython",
    "version": 3
   },
   "file_extension": ".py",
   "mimetype": "text/x-python",
   "name": "python",
   "nbconvert_exporter": "python",
   "pygments_lexer": "ipython3",
   "version": "3.6.5"
  }
 },
 "nbformat": 4,
 "nbformat_minor": 2
}
