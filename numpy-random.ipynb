{
 "cells": [
  {
   "cell_type": "markdown",
   "metadata": {},
   "source": [
    "# The numpy.random package"
   ]
  },
  {
   "cell_type": "markdown",
   "metadata": {},
   "source": [
    "## Purpose of the Package\n",
    "\n",
    "NumPy is a library contained in the Python programming language. It is used to help support large data structures and matrices. It is also used for its high level mathematical functions to operate these arrays(1). NumPy was created in 2005 by Travis Oliphant and is an open- source software.\n",
    "\n",
    "An important function within the NumPy library is the .random package that is NumPy's built-in pseudorandom number generator(2). Using and developing random numbers is a very important part of machine learning and can be used as a tool to help the learning algorithms be more robust and ultimately result in better predictions and more accurate models(3). Machine learning algorithms use randomness to learn from a sample of data. Randomness is a feature, which allows an algorithm to attempt to avoid over using the small training set and generalize to the broader problem. \n",
    "\n",
    "Machine learning algorithms also uses randomness when evaluating a small sample size of data when it does not have access to the full observations of the domain. The algorithm can harness randomness when evaluating a model such as using a k-fold cross-validation technique. This cross validation technique is used to predict a result using the available data to fit and evaluate the model on different subsets. We do this to see how the model works on average rather than on a specific set of data(3).\n",
    "\n",
    "NumPy and specifically the .random package is a very important tool for both developers and data analysts. It allows the developer the ability to generate random numbers and sequences to try and mimic a real data set or scenario that their program or algorithm will have to deal with. The NumPy library has allowed for algorithms to be more robust and effective in the development of machine learning.   \n"
   ]
  },
  {
   "cell_type": "markdown",
   "metadata": {},
   "source": [
    "## Generating Pseudorandom Numbers"
   ]
  },
  {
   "cell_type": "markdown",
   "metadata": {},
   "source": [
    "## References \n",
    "1. https://en.wikipedia.org/wiki/NumPy#History \n",
    "2. https://engineering.ucsb.edu/~shell/che210d/numpy.pdf\n",
    "3. https://machinelearningmastery.com/introduction-to-random-number-generators-for-machine-learning/"
   ]
  }
 ],
 "metadata": {
  "kernelspec": {
   "display_name": "Python 3",
   "language": "python",
   "name": "python3"
  },
  "language_info": {
   "codemirror_mode": {
    "name": "ipython",
    "version": 3
   },
   "file_extension": ".py",
   "mimetype": "text/x-python",
   "name": "python",
   "nbconvert_exporter": "python",
   "pygments_lexer": "ipython3",
   "version": "3.6.5"
  }
 },
 "nbformat": 4,
 "nbformat_minor": 2
}
