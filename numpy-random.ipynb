{
 "cells": [
  {
   "cell_type": "markdown",
   "metadata": {},
   "source": [
    "# The numpy.random package"
   ]
  },
  {
   "cell_type": "markdown",
   "metadata": {},
   "source": [
    "## Purpose of the Package\n",
    "\n",
    "NumPy is a library contained in the Python programming language. It is used to help support large data structures and matrices. It is also used for its high level mathematical functions to operate these arrays(1). NumPy was created in 2005 by Travis Oliphant and is an open- source software.\n",
    "\n",
    "An important function within the NumPy library is the .random package that is NumPy's built-in pseudorandom number generator(2). Using and developing random numbers is a very important part of machine learning and can be used as a tool to help the learning algorithms be more robust and ultimately result in better predictions and more accurate models(3). Machine learning algorithms use randomness to learn from a sample of data. Randomness is a feature, which allows an algorithm to attempt to avoid over using the small training set and generalize to the broader problem. \n",
    "\n",
    "Machine learning algorithms also uses randomness when evaluating a small sample size of data when it does not have access to the full observations of the domain. The algorithm can harness randomness when evaluating a model such as using a k-fold cross-validation technique. This cross validation technique is used to predict a result using the available data to fit and evaluate the model on different subsets. We do this to see how the model works on average rather than on a specific set of data(3).\n",
    "\n",
    "NumPy and specifically the .random package is a very important tool for both developers and data analysts. It allows the developer the ability to generate random numbers and sequences to try and mimic a real data set or scenario that their program or algorithm will have to deal with. The NumPy library has allowed for algorithms to be more robust and effective in the development of machine learning.   \n"
   ]
  },
  {
   "cell_type": "markdown",
   "metadata": {},
   "source": [
    "## Simple Random Data and Permutations\n",
    "For data intensive computing, NumPy provides us with a wide range of methods that make data manipulation in Python very quick and easy. One of the functions in the random package is the option to create multiple different types of random numbers. As I have stated previously being able to develop huge arrays of random numbers allows developers the ability to debug any new code they may have created. There are various different options and types of figures that the NumPy.random can create and I will show some ways to develop these numbers. The random module also contains some permutations that can be used to randomly shuffle the order of items in a list.  This is sometimes useful if we want to sort a list in random order."
   ]
  },
  {
   "cell_type": "code",
   "execution_count": 3,
   "metadata": {},
   "outputs": [
    {
     "data": {
      "text/plain": [
       "8"
      ]
     },
     "execution_count": 3,
     "metadata": {},
     "output_type": "execute_result"
    }
   ],
   "source": [
    "# import numpy\n",
    "import numpy as np\n",
    "# random.randint creates a single random number between 5 and 10\n",
    "np.random.randint(5, 10)  "
   ]
  },
  {
   "cell_type": "code",
   "execution_count": 4,
   "metadata": {},
   "outputs": [
    {
     "data": {
      "text/plain": [
       "array([0.02776209, 0.75146397, 0.91778701, 0.59733079, 0.93826126])"
      ]
     },
     "execution_count": 4,
     "metadata": {},
     "output_type": "execute_result"
    }
   ],
   "source": [
    "import numpy as np\n",
    "#An array of random numbers in the half-open interval [0.0, 1.0) can be generated\n",
    "np.random.rand(5)"
   ]
  },
  {
   "cell_type": "code",
   "execution_count": 10,
   "metadata": {},
   "outputs": [
    {
     "data": {
      "text/plain": [
       "array([4, 0, 8, 5, 1, 6, 9, 7, 3, 2])"
      ]
     },
     "execution_count": 10,
     "metadata": {},
     "output_type": "execute_result"
    }
   ],
   "source": [
    "#creates a list of 10 numbers\n",
    "arr = np.arange(10)\n",
    "#shuffles the list into a random order\n",
    "np.random.shuffle(arr)\n",
    "#prints the list below\n",
    "arr\n",
    "\n"
   ]
  },
  {
   "cell_type": "markdown",
   "metadata": {},
   "source": [
    "## Distribution Function\n",
    "\n",
    "In the previous examples that I have used in the simple random data the results were processed using uniform distribution. NumPy.random contains a variety of other distributions that we can use while generating these random numbers. Uniform distribution refers to a probability distribution for which all of the values that a random variable can take on occur with equal probability(7).  I will now list and explain 5 of these unique distributions.  "
   ]
  },
  {
   "cell_type": "markdown",
   "metadata": {},
   "source": [
    "### Poisson Distribution\n",
    "The Poisson Distribution is used in statistics that calculates the probability of a number of events occuring over a certain fixed interval. This type of probability distribution can be invaluable when trying to investigate a reoccuring event over a certain period of time to find a pattern. To generate a poisson distribution a lambda is required that which is the average number of events in a given interval. k is denoted as the number of times an event occurs in an interval and k can take values 0, 1, 2 etc. "
   ]
  },
  {
   "cell_type": "code",
   "execution_count": 8,
   "metadata": {},
   "outputs": [
    {
     "data": {
      "image/png": "[encoded data removed]",
      "text/plain": [
       "<Figure size 432x288 with 1 Axes>"
      ]
     },
     "metadata": {},
     "output_type": "display_data"
    }
   ],
   "source": [
    "import numpy as np\n",
    "# generate k and labda\n",
    "s = np.random.poisson(10, 100)\n",
    "import matplotlib.pyplot as plt\n",
    "%matplotlib inline\n",
    "#format table\n",
    "count, bins, ignored = plt.hist(s, 14, density=True)\n",
    "# add titles to axes and histogram\n",
    "plt.xlabel('k, number of events')\n",
    "plt.ylabel('lambda, average of events')\n",
    "plt.title(r'Histogram of poisson distribution')\n",
    "\n",
    "plt.show()"
   ]
  },
  {
   "cell_type": "code",
   "execution_count": null,
   "metadata": {},
   "outputs": [],
   "source": []
  },
  {
   "cell_type": "markdown",
   "metadata": {},
   "source": [
    "## Generating Pseudorandom Numbers\n",
    "NumPy's random package is a built in feature that creates pseudorandom numbers. The numbers generated are never fully random as they are created from a seed and then are distributed randomly from there. NumPy uses a particular algorithm called Mersenne Twister to generate these pseudorandom numbers. The Mersenne Twister is one of the most extensively tested random number generators in existence. NumPy, if not instructed, generates the seed from the local time on the machine in milliseconds. The \"seed\" is a starting point for the sequence and the guarantee is that if you start from the same seed you will get the same sequence of numbers(5). \n",
    "\n"
   ]
  },
  {
   "cell_type": "code",
   "execution_count": 29,
   "metadata": {
    "scrolled": true
   },
   "outputs": [
    {
     "name": "stdout",
     "output_type": "stream",
     "text": [
      "0.13436424411240122 0.8474337369372327 0.763774618976614\n",
      "0.13436424411240122 0.8474337369372327 0.763774618976614\n"
     ]
    }
   ],
   "source": [
    "# seed the pseudorandom number generator\n",
    "from random import seed\n",
    "from random import random\n",
    "# seed random number generator\n",
    "seed(1)\n",
    "# generate some random numbers\n",
    "print(random(), random(), random())\n",
    "# reset the seed\n",
    "seed(1)\n",
    "# generate some random numbers\n",
    "print(random(), random(), random())"
   ]
  },
  {
   "cell_type": "markdown",
   "metadata": {},
   "source": [
    "The code above shows how we import the seed from the random package and then print off some values(6). This code also shows that when the seed is reset again but to the same number the same sequence of numbers will appear again. This can be useful for debugging purposes as we can create the same sequence of events at every turn. It can be useful to control the randomness by setting the seed to ensure that your code produces the same result each time, such as in a production model.\n",
    "For running experiments where randomization is used to control for confounding variables, a different seed may be used for each experimental run (6)."
   ]
  },
  {
   "cell_type": "markdown",
   "metadata": {},
   "source": [
    "## References \n",
    "1. https://en.wikipedia.org/wiki/NumPy#History \n",
    "2. https://engineering.ucsb.edu/~shell/che210d/numpy.pdf\n",
    "3. https://machinelearningmastery.com/introduction-to-random-number-generators-for-machine-learning/\n",
    "4. https://en.wikipedia.org/wiki/Mersenne_Twister \n",
    "5. https://stackoverflow.com/questions/14914595/what-is-a-seed-in-terms-of-generating-a-random-number\n",
    "6. https://machinelearningmastery.com/how-to-generate-random-numbers-in-python/ \n",
    "7. https://stattrek.com/statistics/dictionary.aspx?definition=uniform_distribution\n",
    "8. https://en.wikipedia.org/wiki/Poisson_distribution"
   ]
  },
  {
   "cell_type": "code",
   "execution_count": null,
   "metadata": {},
   "outputs": [],
   "source": []
  }
 ],
 "metadata": {
  "kernelspec": {
   "display_name": "Python 3",
   "language": "python",
   "name": "python3"
  },
  "language_info": {
   "codemirror_mode": {
    "name": "ipython",
    "version": 3
   },
   "file_extension": ".py",
   "mimetype": "text/x-python",
   "name": "python",
   "nbconvert_exporter": "python",
   "pygments_lexer": "ipython3",
   "version": "3.6.5"
  }
 },
 "nbformat": 4,
 "nbformat_minor": 2
}
